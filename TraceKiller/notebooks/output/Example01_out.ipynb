{
 "cells": [
  {
   "cell_type": "code",
   "execution_count": 9,
   "metadata": {},
   "outputs": [],
   "source": [
    "from __future__ import absolute_import, division, print_function\n",
    "\n",
    "import os\n",
    "import sys\n",
    "\n",
    "project_root = '/home/cchalc/Projects/seiswarehack/SeisWare-Hackathon/TraceKiller'\n",
    "data_folder = os.path.join(project_root, 'data')\n",
    "src_folder = os.path.join(project_root, 'src')\n",
    "sys.path.insert(0, src_folder)\n",
    "\n",
    "input_size = 200\n",
    "\n",
    "# Parameters\n",
    "input_size = 500\n",
    "\n",
    "\n",
    "This is a test for airflow\n",
    "\n",
    "%matplotlib inline\n",
    "import pandas as pd\n",
    "import numpy as np\n",
    "import matplotlib.pyplot as plt\n",
    "\n",
    "x = np.arange(0, input_size, 1)\n",
    "y = np.random.gamma(2., 2., input_size)\n",
    "plt.figure(figsize=(18,10))\n",
    "plt.scatter(x, y, c='r')\n",
    "plt.show()\n",
    "\n",
    "df = pd.DataFrame({'x': x, 'y': y})\n",
    "\n",
    "df.to_csv(os.path.join(data_folder, 'data.csv'))\n",
    "\n",
    "df.head()\n",
    "\n"
   ]
  }
 ],
 "metadata": {
  "kernelspec": {
   "display_name": "swhack",
   "language": "python",
   "name": "swhack"
  },
  "language_info": {
   "codemirror_mode": {
    "name": "ipython",
    "version": 3
   },
   "file_extension": ".py",
   "mimetype": "text/x-python",
   "name": "python",
   "nbconvert_exporter": "python",
   "pygments_lexer": "ipython3",
   "version": "3.7.3"
  },
  "nteract": {
   "version": "nteract-on-jupyter@2.0.12"
  },
  "papermill": {
   "duration": 4.486787,
   "end_time": "2019-05-11T20:33:25.663239",
   "environment_variables": {},
   "exception": null,
   "input_path": "notebooks/Example01.ipynb",
   "output_path": "notebooks/output/Example01_out.ipynb",
   "parameters": {
    "input_size": 500
   },
   "start_time": "2019-05-11T20:33:21.176452",
   "version": "1.0.0"
  }
 },
 "nbformat": 4,
 "nbformat_minor": 2
}
